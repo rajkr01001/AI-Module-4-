{
 "cells": [
  {
   "cell_type": "code",
   "execution_count": 5,
   "id": "f47b3860-4ce3-4bf4-8f41-194eb5d1eec2",
   "metadata": {},
   "outputs": [],
   "source": [
    "import pandas as xyz"
   ]
  },
  {
   "cell_type": "code",
   "execution_count": 6,
   "id": "90a2891d-34ba-484d-8c9c-293c5bf5c94b",
   "metadata": {},
   "outputs": [],
   "source": [
    "age = [ 17,19,21,22,24,17,19 ]"
   ]
  },
  {
   "cell_type": "code",
   "execution_count": 9,
   "id": "7ecde6c1-4ffc-40b5-9623-f0ad3a0f181e",
   "metadata": {},
   "outputs": [],
   "source": [
    "a = xyz.Series(age)"
   ]
  },
  {
   "cell_type": "code",
   "execution_count": 10,
   "id": "28eacedd-bdd8-4f94-a242-41be7ad229bf",
   "metadata": {},
   "outputs": [
    {
     "data": {
      "text/plain": [
       "0    17\n",
       "1    19\n",
       "2    21\n",
       "3    22\n",
       "4    24\n",
       "5    17\n",
       "6    19\n",
       "dtype: int64"
      ]
     },
     "execution_count": 10,
     "metadata": {},
     "output_type": "execute_result"
    }
   ],
   "source": [
    "a"
   ]
  },
  {
   "cell_type": "code",
   "execution_count": 12,
   "id": "99cc694d-b765-48d7-9b80-436d32b30b16",
   "metadata": {},
   "outputs": [
    {
     "data": {
      "text/plain": [
       "np.int64(22)"
      ]
     },
     "execution_count": 12,
     "metadata": {},
     "output_type": "execute_result"
    }
   ],
   "source": [
    "(a[3])"
   ]
  },
  {
   "cell_type": "code",
   "execution_count": 13,
   "id": "69554485-e1d0-435e-a504-50a1e08ca17f",
   "metadata": {},
   "outputs": [
    {
     "name": "stdout",
     "output_type": "stream",
     "text": [
      "22\n"
     ]
    }
   ],
   "source": [
    "print(a[3])"
   ]
  },
  {
   "cell_type": "code",
   "execution_count": 14,
   "id": "50875b15-0e81-44e2-964d-edcd8f15af56",
   "metadata": {},
   "outputs": [],
   "source": [
    "age = [19,17,21]"
   ]
  },
  {
   "cell_type": "code",
   "execution_count": 20,
   "id": "01587d3e-cb42-44b4-b05d-29768ac11e32",
   "metadata": {},
   "outputs": [],
   "source": [
    "a = xyz.Series(age, index=['x','y','z'])"
   ]
  },
  {
   "cell_type": "code",
   "execution_count": 21,
   "id": "6c3283ac-2e9e-4eec-98a4-308829eb63e5",
   "metadata": {},
   "outputs": [
    {
     "data": {
      "text/plain": [
       "x    19\n",
       "y    17\n",
       "z    21\n",
       "dtype: int64"
      ]
     },
     "execution_count": 21,
     "metadata": {},
     "output_type": "execute_result"
    }
   ],
   "source": [
    "a"
   ]
  },
  {
   "cell_type": "code",
   "execution_count": 22,
   "id": "7729c154-f7e4-42d8-a4b2-1b33772c2741",
   "metadata": {},
   "outputs": [
    {
     "name": "stdout",
     "output_type": "stream",
     "text": [
      "19\n"
     ]
    }
   ],
   "source": [
    "print(a['x'])"
   ]
  },
  {
   "cell_type": "code",
   "execution_count": 28,
   "id": "045d9a3c-9b76-4c59-a15d-a9e271153748",
   "metadata": {},
   "outputs": [
    {
     "name": "stderr",
     "output_type": "stream",
     "text": [
      "C:\\Users\\rajig\\AppData\\Local\\Temp\\ipykernel_7108\\1109539928.py:1: FutureWarning: Series.__getitem__ treating keys as positions is deprecated. In a future version, integer keys will always be treated as labels (consistent with DataFrame behavior). To access a value by position, use `ser.iloc[pos]`\n",
      "  a[0]\n"
     ]
    },
    {
     "data": {
      "text/plain": [
       "np.int64(19)"
      ]
     },
     "execution_count": 28,
     "metadata": {},
     "output_type": "execute_result"
    }
   ],
   "source": [
    "a[0]"
   ]
  },
  {
   "cell_type": "code",
   "execution_count": 31,
   "id": "b2e4cb83-f5b6-42ce-a20d-fe1d9fdda2af",
   "metadata": {},
   "outputs": [],
   "source": [
    "age = {'x' :21, 'y' :18, 'z' :25}"
   ]
  },
  {
   "cell_type": "code",
   "execution_count": 32,
   "id": "63977016-7f06-4292-b842-f47b6d85ac12",
   "metadata": {},
   "outputs": [],
   "source": [
    "c=xyz.Series(age)"
   ]
  },
  {
   "cell_type": "code",
   "execution_count": 33,
   "id": "1ff53e3b-5fcb-48f9-8505-c26bfa223625",
   "metadata": {},
   "outputs": [
    {
     "data": {
      "text/plain": [
       "x    21\n",
       "y    18\n",
       "z    25\n",
       "dtype: int64"
      ]
     },
     "execution_count": 33,
     "metadata": {},
     "output_type": "execute_result"
    }
   ],
   "source": [
    "c"
   ]
  },
  {
   "cell_type": "code",
   "execution_count": 37,
   "id": "63385fce-ce5e-4478-a658-765a43eaea7b",
   "metadata": {},
   "outputs": [],
   "source": [
    "salary = [25000,54000,45062,455646,55444,545456,754554,5677675,566546,6456,45554,]"
   ]
  },
  {
   "cell_type": "code",
   "execution_count": 38,
   "id": "906b78e5-022f-4cbd-be2d-18626ef54072",
   "metadata": {},
   "outputs": [],
   "source": [
    "d=xyz.Series(salary)"
   ]
  },
  {
   "cell_type": "code",
   "execution_count": 39,
   "id": "290cc936-8247-48b2-b94e-af3f06e2e2e9",
   "metadata": {},
   "outputs": [
    {
     "data": {
      "text/plain": [
       "0       25000\n",
       "1       54000\n",
       "2       45062\n",
       "3      455646\n",
       "4       55444\n",
       "5      545456\n",
       "6      754554\n",
       "7     5677675\n",
       "8      566546\n",
       "9        6456\n",
       "10      45554\n",
       "dtype: int64"
      ]
     },
     "execution_count": 39,
     "metadata": {},
     "output_type": "execute_result"
    }
   ],
   "source": [
    "d"
   ]
  },
  {
   "cell_type": "code",
   "execution_count": 40,
   "id": "a58c1bc8-0964-4916-8604-2d7edb298ae1",
   "metadata": {},
   "outputs": [
    {
     "data": {
      "text/plain": [
       "0     25000\n",
       "1     54000\n",
       "2     45062\n",
       "3    455646\n",
       "4     55444\n",
       "dtype: int64"
      ]
     },
     "execution_count": 40,
     "metadata": {},
     "output_type": "execute_result"
    }
   ],
   "source": [
    "d[:5]"
   ]
  },
  {
   "cell_type": "code",
   "execution_count": 44,
   "id": "957097e8-f0cd-46e4-9833-cbf340de0983",
   "metadata": {},
   "outputs": [
    {
     "data": {
      "text/plain": [
       "0       25000\n",
       "1       54000\n",
       "2       45062\n",
       "3      455646\n",
       "4       55444\n",
       "5      545456\n",
       "6      754554\n",
       "7     5677675\n",
       "8      566546\n",
       "9        6456\n",
       "10      45554\n",
       "dtype: int64"
      ]
     },
     "execution_count": 44,
     "metadata": {},
     "output_type": "execute_result"
    }
   ],
   "source": [
    "d[:]"
   ]
  },
  {
   "cell_type": "code",
   "execution_count": 45,
   "id": "cd424126-1401-46d4-8b27-bdbd714a45dd",
   "metadata": {},
   "outputs": [
    {
     "data": {
      "text/plain": [
       "0       25000\n",
       "1       54000\n",
       "2       45062\n",
       "3      455646\n",
       "4       55444\n",
       "5      545456\n",
       "6      754554\n",
       "7     5677675\n",
       "8      566546\n",
       "9        6456\n",
       "10      45554\n",
       "dtype: int64"
      ]
     },
     "execution_count": 45,
     "metadata": {},
     "output_type": "execute_result"
    }
   ],
   "source": [
    "d"
   ]
  },
  {
   "cell_type": "code",
   "execution_count": 47,
   "id": "ef9a6f44-4831-40f7-9459-87cc02ab86fc",
   "metadata": {},
   "outputs": [
    {
     "data": {
      "text/plain": [
       "dtype('int64')"
      ]
     },
     "execution_count": 47,
     "metadata": {},
     "output_type": "execute_result"
    }
   ],
   "source": [
    "a.dtype"
   ]
  },
  {
   "cell_type": "code",
   "execution_count": 48,
   "id": "76483ad1-4e8f-4995-af62-fc9be452dc66",
   "metadata": {},
   "outputs": [
    {
     "data": {
      "text/plain": [
       "(11,)"
      ]
     },
     "execution_count": 48,
     "metadata": {},
     "output_type": "execute_result"
    }
   ],
   "source": [
    "d.shape"
   ]
  },
  {
   "cell_type": "code",
   "execution_count": 49,
   "id": "fb5df4d9-3b7d-40fc-ad84-8a4c6b5ce5c6",
   "metadata": {},
   "outputs": [
    {
     "data": {
      "text/plain": [
       "array([  25000,   54000,   45062,  455646,   55444,  545456,  754554,\n",
       "       5677675,  566546,    6456,   45554])"
      ]
     },
     "execution_count": 49,
     "metadata": {},
     "output_type": "execute_result"
    }
   ],
   "source": [
    "d.values"
   ]
  },
  {
   "cell_type": "code",
   "execution_count": 50,
   "id": "e39c4b82-9629-430f-ac61-a19c6414f6d8",
   "metadata": {},
   "outputs": [
    {
     "data": {
      "text/plain": [
       "RangeIndex(start=0, stop=11, step=1)"
      ]
     },
     "execution_count": 50,
     "metadata": {},
     "output_type": "execute_result"
    }
   ],
   "source": [
    "d.index"
   ]
  },
  {
   "cell_type": "code",
   "execution_count": 51,
   "id": "5964dd30-938d-4e7a-b4f4-599d2443fc96",
   "metadata": {},
   "outputs": [
    {
     "data": {
      "text/plain": [
       "x    21\n",
       "y    19\n",
       "z    23\n",
       "dtype: int64"
      ]
     },
     "execution_count": 51,
     "metadata": {},
     "output_type": "execute_result"
    }
   ],
   "source": [
    "a+2"
   ]
  },
  {
   "cell_type": "code",
   "execution_count": 52,
   "id": "1a0afbd2-0cd1-4226-99fb-1c4063b35d60",
   "metadata": {},
   "outputs": [
    {
     "data": {
      "text/plain": [
       "x    17\n",
       "y    15\n",
       "z    19\n",
       "dtype: int64"
      ]
     },
     "execution_count": 52,
     "metadata": {},
     "output_type": "execute_result"
    }
   ],
   "source": [
    "a-2"
   ]
  },
  {
   "cell_type": "code",
   "execution_count": 53,
   "id": "255459bb-b869-4ca6-8639-03931ffa7408",
   "metadata": {},
   "outputs": [
    {
     "data": {
      "text/plain": [
       "np.float64(19.0)"
      ]
     },
     "execution_count": 53,
     "metadata": {},
     "output_type": "execute_result"
    }
   ],
   "source": [
    "a.mean()"
   ]
  },
  {
   "cell_type": "code",
   "execution_count": 56,
   "id": "4d8823b3-e9cd-4f7e-a1fc-a81fcd5125e5",
   "metadata": {},
   "outputs": [
    {
     "data": {
      "text/plain": [
       "np.float64(19.0)"
      ]
     },
     "execution_count": 56,
     "metadata": {},
     "output_type": "execute_result"
    }
   ],
   "source": [
    "a.median()"
   ]
  },
  {
   "cell_type": "code",
   "execution_count": 62,
   "id": "3ba69cdb-1b69-41a0-99df-41f27df26d43",
   "metadata": {},
   "outputs": [
    {
     "data": {
      "text/plain": [
       "np.float64(4.0)"
      ]
     },
     "execution_count": 62,
     "metadata": {},
     "output_type": "execute_result"
    }
   ],
   "source": [
    "a.var()"
   ]
  },
  {
   "cell_type": "code",
   "execution_count": 61,
   "id": "796ad965-1540-4a05-9439-a2f92fbd026f",
   "metadata": {},
   "outputs": [
    {
     "data": {
      "text/plain": [
       "np.float64(2.0)"
      ]
     },
     "execution_count": 61,
     "metadata": {},
     "output_type": "execute_result"
    }
   ],
   "source": [
    "a.std()"
   ]
  },
  {
   "cell_type": "code",
   "execution_count": 57,
   "id": "6fb65c87-0f2e-45fa-b975-bac7b49190a7",
   "metadata": {},
   "outputs": [
    {
     "data": {
      "text/plain": [
       "0    17\n",
       "1    19\n",
       "2    21\n",
       "dtype: int64"
      ]
     },
     "execution_count": 57,
     "metadata": {},
     "output_type": "execute_result"
    }
   ],
   "source": [
    "a.mode()"
   ]
  },
  {
   "cell_type": "code",
   "execution_count": 60,
   "id": "2bec15b7-5239-459d-80e8-6ed4cc8e8d88",
   "metadata": {},
   "outputs": [
    {
     "name": "stdout",
     "output_type": "stream",
     "text": [
      "<class 'pandas.core.series.Series'>\n",
      "Index: 3 entries, x to z\n",
      "Series name: None\n",
      "Non-Null Count  Dtype\n",
      "--------------  -----\n",
      "3 non-null      int64\n",
      "dtypes: int64(1)\n",
      "memory usage: 156.0+ bytes\n"
     ]
    }
   ],
   "source": [
    "a.info()"
   ]
  },
  {
   "cell_type": "code",
   "execution_count": 63,
   "id": "21c7a5e0-268c-42fa-bf09-57e539519b74",
   "metadata": {},
   "outputs": [
    {
     "data": {
      "text/plain": [
       "<bound method NDFrame.describe of x    19\n",
       "y    17\n",
       "z    21\n",
       "dtype: int64>"
      ]
     },
     "execution_count": 63,
     "metadata": {},
     "output_type": "execute_result"
    }
   ],
   "source": [
    "a.describe"
   ]
  },
  {
   "cell_type": "code",
   "execution_count": 66,
   "id": "ad26a200-1c31-42a4-90de-2940c0dc8472",
   "metadata": {},
   "outputs": [
    {
     "data": {
      "text/plain": [
       "x    20.9\n",
       "y    18.7\n",
       "z    23.1\n",
       "dtype: float64"
      ]
     },
     "execution_count": 66,
     "metadata": {},
     "output_type": "execute_result"
    }
   ],
   "source": [
    "a.apply(lambda v:(v+v*0.1))"
   ]
  },
  {
   "cell_type": "code",
   "execution_count": null,
   "id": "d7d38edd-2c5d-446f-9534-4b5164f9e157",
   "metadata": {},
   "outputs": [],
   "source": []
  }
 ],
 "metadata": {
  "kernelspec": {
   "display_name": "Python 3 (ipykernel)",
   "language": "python",
   "name": "python3"
  },
  "language_info": {
   "codemirror_mode": {
    "name": "ipython",
    "version": 3
   },
   "file_extension": ".py",
   "mimetype": "text/x-python",
   "name": "python",
   "nbconvert_exporter": "python",
   "pygments_lexer": "ipython3",
   "version": "3.12.8"
  }
 },
 "nbformat": 4,
 "nbformat_minor": 5
}
